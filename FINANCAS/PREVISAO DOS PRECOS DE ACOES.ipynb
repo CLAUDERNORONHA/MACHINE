{
 "cells": [
  {
   "cell_type": "code",
   "execution_count": 21,
   "metadata": {},
   "outputs": [],
   "source": [
    "import numpy as np\n",
    "import pandas as pd\n",
    "from sklearn import preprocessing\n",
    "from sklearn.model_selection import train_test_split\n",
    "from sklearn.linear_model import LinearRegression"
   ]
  },
  {
   "cell_type": "code",
   "execution_count": 22,
   "metadata": {},
   "outputs": [],
   "source": [
    "def prepare_data(df,forecast_col,forecast_out,test_size):\n",
    "    label = df[forecast_col].shift(-forecast_out) #criar uma nova coluna chamada rótulo com as últimas 5 linhas são nan\n",
    "    X = np.array(df[[forecast_col]]) #criando a matriz de recursos\n",
    "    X = preprocessing.scale(X) #processando o array de recursos\n",
    "    X_lately = X[-forecast_out:] #criando a coluna que desejo usar mais tarde no método de previsão\n",
    "    X = X[:-forecast_out] # X que conterá o treinamento e teste\n",
    "    label.dropna(inplace=True) #dropping na values\n",
    "    y = np.array(label) # atribuindo Y\n",
    "    X_train, X_test, Y_train, Y_test = train_test_split(X, y, test_size=test_size, random_state=0) #cross validation\n",
    "\n",
    "    response = [X_train,X_test , Y_train, Y_test , X_lately]\n",
    "    return response"
   ]
  },
  {
   "cell_type": "code",
   "execution_count": 28,
   "metadata": {},
   "outputs": [],
   "source": [
    "df = pd.read_csv(\"INR=X.csv\")"
   ]
  },
  {
   "cell_type": "code",
   "execution_count": null,
   "metadata": {},
   "outputs": [],
   "source": []
  },
  {
   "cell_type": "code",
   "execution_count": 29,
   "metadata": {},
   "outputs": [
    {
     "data": {
      "text/html": [
       "<div>\n",
       "<style scoped>\n",
       "    .dataframe tbody tr th:only-of-type {\n",
       "        vertical-align: middle;\n",
       "    }\n",
       "\n",
       "    .dataframe tbody tr th {\n",
       "        vertical-align: top;\n",
       "    }\n",
       "\n",
       "    .dataframe thead th {\n",
       "        text-align: right;\n",
       "    }\n",
       "</style>\n",
       "<table border=\"1\" class=\"dataframe\">\n",
       "  <thead>\n",
       "    <tr style=\"text-align: right;\">\n",
       "      <th></th>\n",
       "      <th>Date</th>\n",
       "      <th>Open</th>\n",
       "      <th>High</th>\n",
       "      <th>Low</th>\n",
       "      <th>Close</th>\n",
       "      <th>Adj Close</th>\n",
       "      <th>Volume</th>\n",
       "    </tr>\n",
       "  </thead>\n",
       "  <tbody>\n",
       "    <tr>\n",
       "      <th>0</th>\n",
       "      <td>2020-01-27</td>\n",
       "      <td>71.320000</td>\n",
       "      <td>71.635002</td>\n",
       "      <td>71.320000</td>\n",
       "      <td>71.324997</td>\n",
       "      <td>71.324997</td>\n",
       "      <td>0</td>\n",
       "    </tr>\n",
       "    <tr>\n",
       "      <th>1</th>\n",
       "      <td>2020-01-28</td>\n",
       "      <td>71.654999</td>\n",
       "      <td>71.654999</td>\n",
       "      <td>71.178001</td>\n",
       "      <td>71.440002</td>\n",
       "      <td>71.440002</td>\n",
       "      <td>0</td>\n",
       "    </tr>\n",
       "    <tr>\n",
       "      <th>2</th>\n",
       "      <td>2020-01-29</td>\n",
       "      <td>71.230103</td>\n",
       "      <td>71.425003</td>\n",
       "      <td>71.168503</td>\n",
       "      <td>71.230400</td>\n",
       "      <td>71.230400</td>\n",
       "      <td>0</td>\n",
       "    </tr>\n",
       "    <tr>\n",
       "      <th>3</th>\n",
       "      <td>2020-01-30</td>\n",
       "      <td>71.300003</td>\n",
       "      <td>71.711998</td>\n",
       "      <td>71.300003</td>\n",
       "      <td>71.300003</td>\n",
       "      <td>71.300003</td>\n",
       "      <td>0</td>\n",
       "    </tr>\n",
       "    <tr>\n",
       "      <th>4</th>\n",
       "      <td>2020-01-31</td>\n",
       "      <td>71.639999</td>\n",
       "      <td>71.639999</td>\n",
       "      <td>71.277496</td>\n",
       "      <td>71.639999</td>\n",
       "      <td>71.639999</td>\n",
       "      <td>0</td>\n",
       "    </tr>\n",
       "  </tbody>\n",
       "</table>\n",
       "</div>"
      ],
      "text/plain": [
       "         Date       Open       High        Low      Close  Adj Close  Volume\n",
       "0  2020-01-27  71.320000  71.635002  71.320000  71.324997  71.324997       0\n",
       "1  2020-01-28  71.654999  71.654999  71.178001  71.440002  71.440002       0\n",
       "2  2020-01-29  71.230103  71.425003  71.168503  71.230400  71.230400       0\n",
       "3  2020-01-30  71.300003  71.711998  71.300003  71.300003  71.300003       0\n",
       "4  2020-01-31  71.639999  71.639999  71.277496  71.639999  71.639999       0"
      ]
     },
     "execution_count": 29,
     "metadata": {},
     "output_type": "execute_result"
    }
   ],
   "source": [
    "df.head()"
   ]
  },
  {
   "cell_type": "markdown",
   "metadata": {},
   "source": [
    "Agora precisamos preparar três variáveis ​​de entrada conforme já preparadas na função criada na seção acima. Precisamos declarar uma variável de entrada mencionando sobre qual coluna queremos prever. A próxima variável que precisamos declarar é o quanto queremos prever.\n",
    "\n",
    "\n",
    "\n",
    "E a última variável que precisamos declarar é quanto deve ser o tamanho do conjunto de teste. Agora vamos declarar todas as variáveis:"
   ]
  },
  {
   "cell_type": "code",
   "execution_count": 39,
   "metadata": {},
   "outputs": [],
   "source": [
    "forecast_col = \"Close\""
   ]
  },
  {
   "cell_type": "code",
   "execution_count": 40,
   "metadata": {},
   "outputs": [],
   "source": [
    "forecast_out = 5\n",
    "test_size = 0.2"
   ]
  },
  {
   "cell_type": "code",
   "execution_count": null,
   "metadata": {},
   "outputs": [],
   "source": []
  },
  {
   "cell_type": "markdown",
   "metadata": {},
   "source": [
    "Aplicação de aprendizado de máquina para previsão de preços de ações"
   ]
  },
  {
   "cell_type": "code",
   "execution_count": 47,
   "metadata": {},
   "outputs": [],
   "source": [
    "#Agora vou dividir os dados e ajustar ao modelo de regressão linear\n",
    "X_train,  X_test, Y_train, Y_test, X_lately = prepare_data(df, forecast_col, forecast_out, test_size)"
   ]
  },
  {
   "cell_type": "code",
   "execution_count": 48,
   "metadata": {},
   "outputs": [],
   "source": [
    "#Inicializar o modelo de regressão Linear\n",
    "learner = LinearRegression()"
   ]
  },
  {
   "cell_type": "code",
   "execution_count": null,
   "metadata": {},
   "outputs": [],
   "source": []
  },
  {
   "cell_type": "code",
   "execution_count": 49,
   "metadata": {},
   "outputs": [
    {
     "data": {
      "text/plain": [
       "LinearRegression(copy_X=True, fit_intercept=True, n_jobs=None,\n",
       "         normalize=False)"
      ]
     },
     "execution_count": 49,
     "metadata": {},
     "output_type": "execute_result"
    }
   ],
   "source": [
    "#Treinar o modelo de Regressão Linear\n",
    "learner.fit(X_train, Y_train)"
   ]
  },
  {
   "cell_type": "code",
   "execution_count": null,
   "metadata": {},
   "outputs": [],
   "source": []
  },
  {
   "cell_type": "markdown",
   "metadata": {},
   "source": [
    "Agora vamos prever a produção e dar uma olhada nos preços das ações:"
   ]
  },
  {
   "cell_type": "code",
   "execution_count": 53,
   "metadata": {},
   "outputs": [],
   "source": [
    "score = learner.score(X_test, Y_test)  #testar o modelo de regressão linear\n",
    "forecast= learner.predict(X_lately)  #set que conterá os dados previstos\n",
    "response={} #criando o objseto Json\n",
    "response['test_score'] = score\n",
    "response['forecast_set'] = forecast"
   ]
  },
  {
   "cell_type": "code",
   "execution_count": 54,
   "metadata": {},
   "outputs": [
    {
     "name": "stdout",
     "output_type": "stream",
     "text": [
      "{'test_score': 0.639145178346672, 'forecast_set': array([73.37040254, 73.12634778, 73.16456803, 73.20017668, 73.1776807 ])}\n"
     ]
    }
   ],
   "source": [
    "print(response)"
   ]
  },
  {
   "cell_type": "code",
   "execution_count": null,
   "metadata": {},
   "outputs": [],
   "source": []
  },
  {
   "cell_type": "code",
   "execution_count": null,
   "metadata": {},
   "outputs": [],
   "source": []
  }
 ],
 "metadata": {
  "kernelspec": {
   "display_name": "Python 3",
   "language": "python",
   "name": "python3"
  },
  "language_info": {
   "codemirror_mode": {
    "name": "ipython",
    "version": 3
   },
   "file_extension": ".py",
   "mimetype": "text/x-python",
   "name": "python",
   "nbconvert_exporter": "python",
   "pygments_lexer": "ipython3",
   "version": "3.7.3"
  }
 },
 "nbformat": 4,
 "nbformat_minor": 2
}
