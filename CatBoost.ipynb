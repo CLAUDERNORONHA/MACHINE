{
  "nbformat": 4,
  "nbformat_minor": 0,
  "metadata": {
    "colab": {
      "name": "CatBoost.ipynb",
      "provenance": [],
      "collapsed_sections": [],
      "mount_file_id": "18H6KJaYrmNBhaqiHGjcshXoFJ8EoXLDw",
      "authorship_tag": "ABX9TyPyShyFnLGIT71mfrf8N89w",
      "include_colab_link": true
    },
    "kernelspec": {
      "name": "python3",
      "display_name": "Python 3"
    },
    "language_info": {
      "name": "python"
    },
    "widgets": {
      "application/vnd.jupyter.widget-state+json": {
        "2204b596728148e78031f92142859cf5": {
          "model_module": "catboost-widget",
          "model_name": "CatboostWidgetModel",
          "model_module_version": "^1.0.0",
          "state": {
            "_view_name": "CatboostWidgetView",
            "_dom_classes": [],
            "_model_name": "CatboostWidgetModel",
            "data": {
              "catboost_info": {
                "content": {
                  "data": {
                    "meta": {
                      "name": "experiment",
                      "parameters": "",
                      "test_metrics": [
                        {
                          "best_value": "Max",
                          "name": "Accuracy"
                        },
                        {
                          "best_value": "Min",
                          "name": "Logloss"
                        }
                      ],
                      "learn_sets": [
                        "learn"
                      ],
                      "launch_mode": "Train",
                      "learn_metrics": [
                        {
                          "best_value": "Max",
                          "name": "Accuracy"
                        },
                        {
                          "best_value": "Min",
                          "name": "Logloss"
                        }
                      ],
                      "iteration_count": 100,
                      "test_sets": [
                        "test"
                      ]
                    },
                    "iterations": [
                      {
                        "test": [
                          0.8857908847,
                          0.5743476033
                        ],
                        "passed_time": 0.07241099384,
                        "iteration": 0,
                        "remaining_time": 7.16868839,
                        "learn": [
                          0.8866660064,
                          0.57356814
                        ]
                      },
                      {
                        "test": [
                          0.8872654155,
                          0.4905254684
                        ],
                        "passed_time": 0.09078288128,
                        "iteration": 1,
                        "remaining_time": 4.448361183,
                        "learn": [
                          0.8901323826,
                          0.4897004132
                        ]
                      },
                      {
                        "test": [
                          0.8876675603,
                          0.4308846815
                        ],
                        "passed_time": 0.1121116037,
                        "iteration": 2,
                        "remaining_time": 3.624941854,
                        "learn": [
                          0.8906275791,
                          0.4297970597
                        ]
                      },
                      {
                        "test": [
                          0.8878686327,
                          0.3897861721
                        ],
                        "passed_time": 0.1346633137,
                        "iteration": 3,
                        "remaining_time": 3.231919529,
                        "learn": [
                          0.8903634743,
                          0.3884231396
                        ]
                      },
                      {
                        "test": [
                          0.888002681,
                          0.3576964153
                        ],
                        "passed_time": 0.1518210342,
                        "iteration": 4,
                        "remaining_time": 2.88459965,
                        "learn": [
                          0.8903304612,
                          0.3563555592
                        ]
                      },
                      {
                        "test": [
                          0.8896112601,
                          0.3329312604
                        ],
                        "passed_time": 0.169708105,
                        "iteration": 5,
                        "remaining_time": 2.658760311,
                        "learn": [
                          0.8921791951,
                          0.3315529293
                        ]
                      },
                      {
                        "test": [
                          0.8930965147,
                          0.3113836246
                        ],
                        "passed_time": 0.1902227876,
                        "iteration": 6,
                        "remaining_time": 2.527245607,
                        "learn": [
                          0.8956125582,
                          0.3096661444
                        ]
                      },
                      {
                        "test": [
                          0.8953753351,
                          0.2963880248
                        ],
                        "passed_time": 0.2120507296,
                        "iteration": 7,
                        "remaining_time": 2.43858339,
                        "learn": [
                          0.8972302004,
                          0.2942174217
                        ]
                      },
                      {
                        "test": [
                          0.8962466488,
                          0.2843187572
                        ],
                        "passed_time": 0.2285464341,
                        "iteration": 8,
                        "remaining_time": 2.31085839,
                        "learn": [
                          0.8984516853,
                          0.2816802069
                        ]
                      },
                      {
                        "test": [
                          0.8965817694,
                          0.2746439183
                        ],
                        "passed_time": 0.2462432893,
                        "iteration": 9,
                        "remaining_time": 2.216189603,
                        "learn": [
                          0.898979895,
                          0.2719664883
                        ]
                      },
                      {
                        "test": [
                          0.8981233244,
                          0.2664895662
                        ],
                        "passed_time": 0.2649289169,
                        "iteration": 10,
                        "remaining_time": 2.143515782,
                        "learn": [
                          0.9003004193,
                          0.263394128
                        ]
                      },
                      {
                        "test": [
                          0.8982573727,
                          0.2599566692
                        ],
                        "passed_time": 0.2822017909,
                        "iteration": 11,
                        "remaining_time": 2.0694798,
                        "learn": [
                          0.9008616421,
                          0.2567830171
                        ]
                      },
                      {
                        "test": [
                          0.9001340483,
                          0.2519888812
                        ],
                        "passed_time": 0.2991894186,
                        "iteration": 12,
                        "remaining_time": 2.002267647,
                        "learn": [
                          0.903634743,
                          0.2485039533
                        ]
                      },
                      {
                        "test": [
                          0.9010723861,
                          0.2456720433
                        ],
                        "passed_time": 0.3218587982,
                        "iteration": 13,
                        "remaining_time": 1.977132617,
                        "learn": [
                          0.9039318609,
                          0.2418355838
                        ]
                      },
                      {
                        "test": [
                          0.9022117962,
                          0.2416655802
                        ],
                        "passed_time": 0.3448449859,
                        "iteration": 14,
                        "remaining_time": 1.954121587,
                        "learn": [
                          0.9051533459,
                          0.237489218
                        ]
                      },
                      {
                        "test": [
                          0.9010053619,
                          0.2382534324
                        ],
                        "passed_time": 0.3618728855,
                        "iteration": 15,
                        "remaining_time": 1.899832649,
                        "learn": [
                          0.9040969265,
                          0.2333657103
                        ]
                      },
                      {
                        "test": [
                          0.9010723861,
                          0.2341816696
                        ],
                        "passed_time": 0.3781950506,
                        "iteration": 16,
                        "remaining_time": 1.846481718,
                        "learn": [
                          0.9050873197,
                          0.2289229728
                        ]
                      },
                      {
                        "test": [
                          0.902077748,
                          0.2315546272
                        ],
                        "passed_time": 0.3947529068,
                        "iteration": 17,
                        "remaining_time": 1.798318798,
                        "learn": [
                          0.905813608,
                          0.226090891
                        ]
                      },
                      {
                        "test": [
                          0.9016085791,
                          0.2283769309
                        ],
                        "passed_time": 0.4114889128,
                        "iteration": 18,
                        "remaining_time": 1.754242207,
                        "learn": [
                          0.905186359,
                          0.2227428602
                        ]
                      },
                      {
                        "test": [
                          0.9018766756,
                          0.2267671155
                        ],
                        "passed_time": 0.4277458465,
                        "iteration": 19,
                        "remaining_time": 1.710983386,
                        "learn": [
                          0.9056815556,
                          0.2209800761
                        ]
                      },
                      {
                        "test": [
                          0.9024128686,
                          0.224379641
                        ],
                        "passed_time": 0.4442906008,
                        "iteration": 20,
                        "remaining_time": 1.671378927,
                        "learn": [
                          0.9069360536,
                          0.2184108297
                        ]
                      },
                      {
                        "test": [
                          0.9023458445,
                          0.2230201265
                        ],
                        "passed_time": 0.4623748686,
                        "iteration": 21,
                        "remaining_time": 1.639329079,
                        "learn": [
                          0.907365224,
                          0.2167694146
                        ]
                      },
                      {
                        "test": [
                          0.9026809651,
                          0.2219137529
                        ],
                        "passed_time": 0.4846415186,
                        "iteration": 22,
                        "remaining_time": 1.622495519,
                        "learn": [
                          0.9077283682,
                          0.2156138387
                        ]
                      },
                      {
                        "test": [
                          0.9022788204,
                          0.2205027236
                        ],
                        "passed_time": 0.5024153405,
                        "iteration": 23,
                        "remaining_time": 1.590981911,
                        "learn": [
                          0.9080584992,
                          0.2141876236
                        ]
                      },
                      {
                        "test": [
                          0.9030160858,
                          0.2196367797
                        ],
                        "passed_time": 0.5190572707,
                        "iteration": 24,
                        "remaining_time": 1.557171812,
                        "learn": [
                          0.9084216434,
                          0.2130575369
                        ]
                      },
                      {
                        "test": [
                          0.9030831099,
                          0.2189102248
                        ],
                        "passed_time": 0.5377527122,
                        "iteration": 25,
                        "remaining_time": 1.53052695,
                        "learn": [
                          0.9085536958,
                          0.2122414528
                        ]
                      },
                      {
                        "test": [
                          0.9035522788,
                          0.2179247777
                        ],
                        "passed_time": 0.557016419,
                        "iteration": 26,
                        "remaining_time": 1.506007355,
                        "learn": [
                          0.9089828662,
                          0.2110570098
                        ]
                      },
                      {
                        "test": [
                          0.9038873995,
                          0.2169391135
                        ],
                        "passed_time": 0.5739154082,
                        "iteration": 27,
                        "remaining_time": 1.475782478,
                        "learn": [
                          0.9090488924,
                          0.2100135276
                        ]
                      },
                      {
                        "test": [
                          0.9039544236,
                          0.2161501578
                        ],
                        "passed_time": 0.5913876439,
                        "iteration": 28,
                        "remaining_time": 1.447880094,
                        "learn": [
                          0.9092139579,
                          0.2090800187
                        ]
                      },
                      {
                        "test": [
                          0.9045576408,
                          0.2157233539
                        ],
                        "passed_time": 0.6096104595,
                        "iteration": 29,
                        "remaining_time": 1.422424406,
                        "learn": [
                          0.9098081939,
                          0.2085105552
                        ]
                      },
                      {
                        "test": [
                          0.9045576408,
                          0.2148209423
                        ],
                        "passed_time": 0.6265644798,
                        "iteration": 30,
                        "remaining_time": 1.394611262,
                        "learn": [
                          0.9097421676,
                          0.2076528413
                        ]
                      },
                      {
                        "test": [
                          0.9043565684,
                          0.2144275284
                        ],
                        "passed_time": 0.6428597113,
                        "iteration": 31,
                        "remaining_time": 1.366076886,
                        "learn": [
                          0.9100392856,
                          0.207003761
                        ]
                      },
                      {
                        "test": [
                          0.9047587131,
                          0.2133562076
                        ],
                        "passed_time": 0.659282327,
                        "iteration": 32,
                        "remaining_time": 1.338542906,
                        "learn": [
                          0.910171338,
                          0.206043065
                        ]
                      },
                      {
                        "test": [
                          0.9043565684,
                          0.2130111391
                        ],
                        "passed_time": 0.6764082721,
                        "iteration": 33,
                        "remaining_time": 1.313027822,
                        "learn": [
                          0.9105014691,
                          0.20542817
                        ]
                      },
                      {
                        "test": [
                          0.9042225201,
                          0.2126092171
                        ],
                        "passed_time": 0.6964241362,
                        "iteration": 34,
                        "remaining_time": 1.29335911,
                        "learn": [
                          0.9106335215,
                          0.2049093917
                        ]
                      },
                      {
                        "test": [
                          0.9053619303,
                          0.2119298193
                        ],
                        "passed_time": 0.7147052509,
                        "iteration": 35,
                        "remaining_time": 1.270587113,
                        "learn": [
                          0.9111617312,
                          0.2040611553
                        ]
                      },
                      {
                        "test": [
                          0.9050938338,
                          0.2118047983
                        ],
                        "passed_time": 0.732760137,
                        "iteration": 36,
                        "remaining_time": 1.247672666,
                        "learn": [
                          0.9117559671,
                          0.2036093087
                        ]
                      },
                      {
                        "test": [
                          0.9056300268,
                          0.2111442285
                        ],
                        "passed_time": 0.7542454941,
                        "iteration": 37,
                        "remaining_time": 1.230611069,
                        "learn": [
                          0.9114588492,
                          0.2026970922
                        ]
                      },
                      {
                        "test": [
                          0.9056300268,
                          0.2109787906
                        ],
                        "passed_time": 0.7709524462,
                        "iteration": 38,
                        "remaining_time": 1.205848698,
                        "learn": [
                          0.9117889802,
                          0.2023386009
                        ]
                      },
                      {
                        "test": [
                          0.9056970509,
                          0.2092978493
                        ],
                        "passed_time": 0.7876638913,
                        "iteration": 39,
                        "remaining_time": 1.181495837,
                        "learn": [
                          0.9115909016,
                          0.2007016297
                        ]
                      },
                      {
                        "test": [
                          0.9058981233,
                          0.2081992595
                        ],
                        "passed_time": 0.8045908552,
                        "iteration": 40,
                        "remaining_time": 1.157825865,
                        "learn": [
                          0.9116899409,
                          0.1997357579
                        ]
                      },
                      {
                        "test": [
                          0.9063002681,
                          0.2081244372
                        ],
                        "passed_time": 0.8166076071,
                        "iteration": 41,
                        "remaining_time": 1.127696219,
                        "learn": [
                          0.9114918623,
                          0.1996577231
                        ]
                      },
                      {
                        "test": [
                          0.9063672922,
                          0.2080760241
                        ],
                        "passed_time": 0.8336374446,
                        "iteration": 42,
                        "remaining_time": 1.105054287,
                        "learn": [
                          0.9117889802,
                          0.1995044774
                        ]
                      },
                      {
                        "test": [
                          0.906769437,
                          0.2080361139
                        ],
                        "passed_time": 0.8501286952,
                        "iteration": 43,
                        "remaining_time": 1.081981976,
                        "learn": [
                          0.9122841768,
                          0.1992317693
                        ]
                      },
                      {
                        "test": [
                          0.9069034853,
                          0.207608432
                        ],
                        "passed_time": 0.8664084596,
                        "iteration": 44,
                        "remaining_time": 1.058943673,
                        "learn": [
                          0.9123171899,
                          0.1987668059
                        ]
                      },
                      {
                        "test": [
                          0.9067024129,
                          0.20746427
                        ],
                        "passed_time": 0.8831300063,
                        "iteration": 45,
                        "remaining_time": 1.036717834,
                        "learn": [
                          0.9126803341,
                          0.1985702845
                        ]
                      },
                      {
                        "test": [
                          0.9066353887,
                          0.2074170121
                        ],
                        "passed_time": 0.900953509,
                        "iteration": 46,
                        "remaining_time": 1.015968851,
                        "learn": [
                          0.9127793734,
                          0.1983337208
                        ]
                      },
                      {
                        "test": [
                          0.9065683646,
                          0.2072923303
                        ],
                        "passed_time": 0.9192657395,
                        "iteration": 47,
                        "remaining_time": 0.9958712178,
                        "learn": [
                          0.9128784127,
                          0.1980960835
                        ]
                      },
                      {
                        "test": [
                          0.9065683646,
                          0.2072067086
                        ],
                        "passed_time": 0.9465733229,
                        "iteration": 48,
                        "remaining_time": 0.9852089687,
                        "learn": [
                          0.9131425176,
                          0.1979936388
                        ]
                      },
                      {
                        "test": [
                          0.9069034853,
                          0.2063530045
                        ],
                        "passed_time": 0.9698291945,
                        "iteration": 49,
                        "remaining_time": 0.9698291945,
                        "learn": [
                          0.9131755307,
                          0.1969500559
                        ]
                      },
                      {
                        "test": [
                          0.9068364611,
                          0.2063002751
                        ],
                        "passed_time": 0.9858871034,
                        "iteration": 50,
                        "remaining_time": 0.947224864,
                        "learn": [
                          0.9133405962,
                          0.1968211735
                        ]
                      },
                      {
                        "test": [
                          0.9066353887,
                          0.2059637012
                        ],
                        "passed_time": 1.002480573,
                        "iteration": 51,
                        "remaining_time": 0.9253666823,
                        "learn": [
                          0.9132415569,
                          0.1964730375
                        ]
                      },
                      {
                        "test": [
                          0.9071715818,
                          0.2059505224
                        ],
                        "passed_time": 1.022678766,
                        "iteration": 52,
                        "remaining_time": 0.9069038111,
                        "learn": [
                          0.9134726486,
                          0.1961721604
                        ]
                      },
                      {
                        "test": [
                          0.90730563,
                          0.2057207544
                        ],
                        "passed_time": 1.038868264,
                        "iteration": 53,
                        "remaining_time": 0.8849618544,
                        "learn": [
                          0.9138688059,
                          0.195920277
                        ]
                      },
                      {
                        "test": [
                          0.9079758713,
                          0.2050790063
                        ],
                        "passed_time": 1.055291262,
                        "iteration": 54,
                        "remaining_time": 0.8634201237,
                        "learn": [
                          0.9138357928,
                          0.1951966639
                        ]
                      },
                      {
                        "test": [
                          0.9077077748,
                          0.2047130954
                        ],
                        "passed_time": 1.071995253,
                        "iteration": 55,
                        "remaining_time": 0.8422819848,
                        "learn": [
                          0.9140008583,
                          0.1947288073
                        ]
                      },
                      {
                        "test": [
                          0.9076407507,
                          0.2047011509
                        ],
                        "passed_time": 1.088408984,
                        "iteration": 56,
                        "remaining_time": 0.8210804616,
                        "learn": [
                          0.9141329108,
                          0.1944728675
                        ]
                      },
                      {
                        "test": [
                          0.9075067024,
                          0.204665258
                        ],
                        "passed_time": 1.109858703,
                        "iteration": 57,
                        "remaining_time": 0.8036907846,
                        "learn": [
                          0.9142319501,
                          0.1942869401
                        ]
                      },
                      {
                        "test": [
                          0.9076407507,
                          0.2043152178
                        ],
                        "passed_time": 1.12716019,
                        "iteration": 58,
                        "remaining_time": 0.7832808097,
                        "learn": [
                          0.9143309894,
                          0.1938274693
                        ]
                      },
                      {
                        "test": [
                          0.9080428954,
                          0.2041962782
                        ],
                        "passed_time": 1.144009468,
                        "iteration": 59,
                        "remaining_time": 0.7626729784,
                        "learn": [
                          0.9147931729,
                          0.1936489713
                        ]
                      },
                      {
                        "test": [
                          0.9081099196,
                          0.2040944477
                        ],
                        "passed_time": 1.160483855,
                        "iteration": 60,
                        "remaining_time": 0.7419486943,
                        "learn": [
                          0.9145620811,
                          0.1934697742
                        ]
                      },
                      {
                        "test": [
                          0.9083780161,
                          0.2040785898
                        ],
                        "passed_time": 1.176712847,
                        "iteration": 61,
                        "remaining_time": 0.7212111,
                        "learn": [
                          0.914529068,
                          0.1933618374
                        ]
                      },
                      {
                        "test": [
                          0.9084450402,
                          0.2040365408
                        ],
                        "passed_time": 1.19316935,
                        "iteration": 62,
                        "remaining_time": 0.700750253,
                        "learn": [
                          0.9147271467,
                          0.1932930444
                        ]
                      },
                      {
                        "test": [
                          0.9084450402,
                          0.2036724047
                        ],
                        "passed_time": 1.210272377,
                        "iteration": 63,
                        "remaining_time": 0.6807782119,
                        "learn": [
                          0.9149582384,
                          0.192712935
                        ]
                      },
                      {
                        "test": [
                          0.9087801609,
                          0.2036203573
                        ],
                        "passed_time": 1.226583006,
                        "iteration": 64,
                        "remaining_time": 0.6604677725,
                        "learn": [
                          0.9149582384,
                          0.1925591965
                        ]
                      },
                      {
                        "test": [
                          0.9087801609,
                          0.2036103975
                        ],
                        "passed_time": 1.243419018,
                        "iteration": 65,
                        "remaining_time": 0.6405491909,
                        "learn": [
                          0.9149912515,
                          0.1923994263
                        ]
                      },
                      {
                        "test": [
                          0.9089812332,
                          0.2035986394
                        ],
                        "passed_time": 1.261234337,
                        "iteration": 66,
                        "remaining_time": 0.6212049722,
                        "learn": [
                          0.9150902908,
                          0.1923180778
                        ]
                      },
                      {
                        "test": [
                          0.9086461126,
                          0.2035662507
                        ],
                        "passed_time": 1.283414017,
                        "iteration": 67,
                        "remaining_time": 0.6039595375,
                        "learn": [
                          0.915123304,
                          0.1922199507
                        ]
                      },
                      {
                        "test": [
                          0.9087801609,
                          0.2035087995
                        ],
                        "passed_time": 1.301751773,
                        "iteration": 68,
                        "remaining_time": 0.5848449996,
                        "learn": [
                          0.9147601598,
                          0.1921019321
                        ]
                      },
                      {
                        "test": [
                          0.908847185,
                          0.2035100208
                        ],
                        "passed_time": 1.317478278,
                        "iteration": 69,
                        "remaining_time": 0.5646335477,
                        "learn": [
                          0.9147271467,
                          0.1920853593
                        ]
                      },
                      {
                        "test": [
                          0.9084450402,
                          0.2034952254
                        ],
                        "passed_time": 1.347505726,
                        "iteration": 70,
                        "remaining_time": 0.5503896628,
                        "learn": [
                          0.9149252253,
                          0.1919285253
                        ]
                      },
                      {
                        "test": [
                          0.9089142091,
                          0.2033489885
                        ],
                        "passed_time": 1.365487223,
                        "iteration": 71,
                        "remaining_time": 0.5310228088,
                        "learn": [
                          0.9150242646,
                          0.191761868
                        ]
                      },
                      {
                        "test": [
                          0.9087801609,
                          0.2032554942
                        ],
                        "passed_time": 1.381766527,
                        "iteration": 72,
                        "remaining_time": 0.511064332,
                        "learn": [
                          0.915123304,
                          0.1916117588
                        ]
                      },
                      {
                        "test": [
                          0.908847185,
                          0.2032467882
                        ],
                        "passed_time": 1.398093264,
                        "iteration": 73,
                        "remaining_time": 0.4912219577,
                        "learn": [
                          0.9153874088,
                          0.1914427153
                        ]
                      },
                      {
                        "test": [
                          0.908847185,
                          0.203273519
                        ],
                        "passed_time": 1.415111798,
                        "iteration": 74,
                        "remaining_time": 0.4717039325,
                        "learn": [
                          0.9150572777,
                          0.1912946085
                        ]
                      },
                      {
                        "test": [
                          0.9084450402,
                          0.2033065126
                        ],
                        "passed_time": 1.438965408,
                        "iteration": 75,
                        "remaining_time": 0.454410129,
                        "learn": [
                          0.9151563171,
                          0.1911656982
                        ]
                      },
                      {
                        "test": [
                          0.9087131367,
                          0.2033082562
                        ],
                        "passed_time": 1.456634007,
                        "iteration": 76,
                        "remaining_time": 0.4350984696,
                        "learn": [
                          0.9151893302,
                          0.1911350783
                        ]
                      },
                      {
                        "test": [
                          0.9087131367,
                          0.2033259278
                        ],
                        "passed_time": 1.47333188,
                        "iteration": 77,
                        "remaining_time": 0.4155551457,
                        "learn": [
                          0.9151893302,
                          0.1911218376
                        ]
                      },
                      {
                        "test": [
                          0.9086461126,
                          0.2033222987
                        ],
                        "passed_time": 1.489559987,
                        "iteration": 78,
                        "remaining_time": 0.395958984,
                        "learn": [
                          0.9154204219,
                          0.1909642002
                        ]
                      },
                      {
                        "test": [
                          0.9086461126,
                          0.2033381503
                        ],
                        "passed_time": 1.511863333,
                        "iteration": 79,
                        "remaining_time": 0.3779658333,
                        "learn": [
                          0.9154204219,
                          0.1909535228
                        ]
                      },
                      {
                        "test": [
                          0.9087131367,
                          0.2032447769
                        ],
                        "passed_time": 1.530547156,
                        "iteration": 80,
                        "remaining_time": 0.3590172341,
                        "learn": [
                          0.9153213826,
                          0.1907239838
                        ]
                      },
                      {
                        "test": [
                          0.9087801609,
                          0.2032607047
                        ],
                        "passed_time": 1.552671056,
                        "iteration": 81,
                        "remaining_time": 0.3408302318,
                        "learn": [
                          0.9153213826,
                          0.1907142923
                        ]
                      },
                      {
                        "test": [
                          0.908847185,
                          0.2031472011
                        ],
                        "passed_time": 1.57043913,
                        "iteration": 82,
                        "remaining_time": 0.3216562073,
                        "learn": [
                          0.915453435,
                          0.1905644322
                        ]
                      },
                      {
                        "test": [
                          0.9085790885,
                          0.2031239461
                        ],
                        "passed_time": 1.58702459,
                        "iteration": 83,
                        "remaining_time": 0.3022903981,
                        "learn": [
                          0.9152883695,
                          0.1903597182
                        ]
                      },
                      {
                        "test": [
                          0.9084450402,
                          0.2031290993
                        ],
                        "passed_time": 1.603014583,
                        "iteration": 84,
                        "remaining_time": 0.2828849264,
                        "learn": [
                          0.9152223433,
                          0.1903505656
                        ]
                      },
                      {
                        "test": [
                          0.908310992,
                          0.2027496822
                        ],
                        "passed_time": 1.619666588,
                        "iteration": 85,
                        "remaining_time": 0.2636666538,
                        "learn": [
                          0.9153874088,
                          0.1898758627
                        ]
                      },
                      {
                        "test": [
                          0.9087801609,
                          0.2027721329
                        ],
                        "passed_time": 1.637981069,
                        "iteration": 86,
                        "remaining_time": 0.2447557919,
                        "learn": [
                          0.9157175399,
                          0.1897111487
                        ]
                      },
                      {
                        "test": [
                          0.9086461126,
                          0.202720901
                        ],
                        "passed_time": 1.655231768,
                        "iteration": 87,
                        "remaining_time": 0.2257134229,
                        "learn": [
                          0.9159816447,
                          0.1896251683
                        ]
                      },
                      {
                        "test": [
                          0.9087801609,
                          0.2026918319
                        ],
                        "passed_time": 1.671947903,
                        "iteration": 88,
                        "remaining_time": 0.2066452465,
                        "learn": [
                          0.916080684,
                          0.1895435863
                        ]
                      },
                      {
                        "test": [
                          0.9086461126,
                          0.202705349
                        ],
                        "passed_time": 1.687832945,
                        "iteration": 89,
                        "remaining_time": 0.1875369939,
                        "learn": [
                          0.9160476709,
                          0.1895337589
                        ]
                      },
                      {
                        "test": [
                          0.9087801609,
                          0.2027089395
                        ],
                        "passed_time": 1.703929318,
                        "iteration": 90,
                        "remaining_time": 0.168520482,
                        "learn": [
                          0.916080684,
                          0.1894454484
                        ]
                      },
                      {
                        "test": [
                          0.9087801609,
                          0.2027272514
                        ],
                        "passed_time": 1.720943053,
                        "iteration": 91,
                        "remaining_time": 0.149647222,
                        "learn": [
                          0.9160146578,
                          0.1894132716
                        ]
                      },
                      {
                        "test": [
                          0.908847185,
                          0.2026909907
                        ],
                        "passed_time": 1.737062623,
                        "iteration": 92,
                        "remaining_time": 0.1307466491,
                        "learn": [
                          0.9162457496,
                          0.1893508392
                        ]
                      },
                      {
                        "test": [
                          0.908847185,
                          0.2027290503
                        ],
                        "passed_time": 1.753433152,
                        "iteration": 93,
                        "remaining_time": 0.111921265,
                        "learn": [
                          0.9162457496,
                          0.1893058882
                        ]
                      },
                      {
                        "test": [
                          0.9087801609,
                          0.2024677146
                        ],
                        "passed_time": 1.769785903,
                        "iteration": 94,
                        "remaining_time": 0.09314662648,
                        "learn": [
                          0.9161136971,
                          0.1891291234
                        ]
                      },
                      {
                        "test": [
                          0.9087801609,
                          0.2024695308
                        ],
                        "passed_time": 1.786096169,
                        "iteration": 95,
                        "remaining_time": 0.07442067371,
                        "learn": [
                          0.916080684,
                          0.1891182781
                        ]
                      },
                      {
                        "test": [
                          0.9089812332,
                          0.2024736059
                        ],
                        "passed_time": 1.802768685,
                        "iteration": 96,
                        "remaining_time": 0.05575573252,
                        "learn": [
                          0.9161467102,
                          0.1890933033
                        ]
                      },
                      {
                        "test": [
                          0.9091823056,
                          0.2024806152
                        ],
                        "passed_time": 1.822695497,
                        "iteration": 97,
                        "remaining_time": 0.03719786729,
                        "learn": [
                          0.9162127365,
                          0.1890742073
                        ]
                      },
                      {
                        "test": [
                          0.9091823056,
                          0.202436192
                        ],
                        "passed_time": 1.841013069,
                        "iteration": 98,
                        "remaining_time": 0.01859609161,
                        "learn": [
                          0.9166088937,
                          0.1889498944
                        ]
                      },
                      {
                        "test": [
                          0.9091823056,
                          0.2024486825
                        ],
                        "passed_time": 1.85701649,
                        "iteration": 99,
                        "remaining_time": 0,
                        "learn": [
                          0.9166419068,
                          0.1889425073
                        ]
                      }
                    ]
                  },
                  "total_iterations": 100,
                  "passed_iterations": 99
                },
                "path": "catboost_info",
                "name": "catboost_info"
              }
            },
            "_view_module": "catboost-widget",
            "_model_module_version": "^1.0.0",
            "_view_count": null,
            "_view_module_version": "^1.0.0",
            "layout": "IPY_MODEL_b4b1944856b84f368c52324fea359f61",
            "_model_module": "catboost-widget"
          }
        }
      }
    }
  },
  "cells": [
    {
      "cell_type": "markdown",
      "metadata": {
        "id": "view-in-github",
        "colab_type": "text"
      },
      "source": [
        "<a href=\"https://colab.research.google.com/github/CLAUDERNORONHA/MACHINE/blob/main/CatBoost.ipynb\" target=\"_parent\"><img src=\"https://colab.research.google.com/assets/colab-badge.svg\" alt=\"Open In Colab\"/></a>"
      ]
    },
    {
      "cell_type": "markdown",
      "source": [
        "CatBoost\n",
        "\n",
        "\n",
        "\n",
        "\n",
        "\n",
        "O principal motivo de eu usar CatBoost é que ele é fácil de usar, eficiente e funciona especialmente bem com variáveis ​​categóricas. Como o nome indica, CatBoost significa aumento ' categórico '. É mais rápido de usar do que, digamos, XGBoost, porque não requer o uso de pré-processamento de seus dados, o que pode levar muito tempo em um processo típico de construção de modelo de Ciência de Dados. Outro problema que outros algoritmos têm é, ao usar variáveis ​​categóricas como IDs, eles criam uma matriz impossível de calcular composta de milhares de colunas feitas de variáveis ​​fictícias ou codificação one-hot. CatBoost corrige esse problema na forma como transforma suas variáveis ​​categóricas, como você verá a seguir.\n",
        "\n",
        "\n",
        "\n",
        "\n",
        "\n",
        "Treinamento\n",
        "\n",
        "CatBoost se baseia em árvores de decisão com gradiente aumentado, incluindo um conjunto de dados de treinamento, com precisão determinada em um conjunto de dados de validação. No treinamento, essas árvores de decisão são construídas consecutivamente com cada árvore tendo sua perda reduzida.\n",
        "\n",
        "\n",
        "\n",
        "\n",
        "Cálculo de divisão\n",
        "\n",
        "Com base nos parâmetros iniciais do CatBoost, a quantização é usada para os recursos numéricos ao determinar as melhores maneiras de dividir os dados em intervalos.\n",
        "\n",
        "Transformação de recursos categóricos\n",
        "\n",
        "O principal benefício, eu acho, desse algoritmo é que ele trata a transformação de recursos categóricos da melhor maneira quando comparado a outros algoritmos de aprendizado de máquina.\n",
        "\n",
        "Por exemplo, na classificação, uma permutação é realizada aleatoriamente, em seguida, um cálculo é realizado a partir de uma fórmula padrão exclusiva para CatBoost ( codificação de destino ordenada ):"
      ],
      "metadata": {
        "id": "xSvD5xflBlTh"
      }
    },
    {
      "cell_type": "markdown",
      "source": [
        "CatBoost  - é um algoritmo de machine , ele é um dos algoritmos dos ansambols. Ele é baseado e arvore de decisão."
      ],
      "metadata": {
        "id": "yPDdH3TuBsVI"
      }
    },
    {
      "cell_type": "code",
      "source": [
        "#pip install catboost"
      ],
      "metadata": {
        "id": "FJY0FEAOBsZP"
      },
      "execution_count": null,
      "outputs": []
    },
    {
      "cell_type": "code",
      "source": [
        ""
      ],
      "metadata": {
        "id": "aLWQbm0oBsdK"
      },
      "execution_count": null,
      "outputs": []
    },
    {
      "cell_type": "code",
      "source": [
        "#Pacotes\n",
        "\n",
        "import numpy as np\n",
        "import pandas as pd\n",
        "import seaborn as sns\n",
        "import statsmodels.api as sm\n",
        "\n",
        "\n",
        "from catboost import CatBoostClassifier\n",
        "from scipy import stats\n",
        "from sklearn.model_selection import train_test_split\n",
        "from sklearn.metrics import f1_score, accuracy_score"
      ],
      "metadata": {
        "colab": {
          "base_uri": "https://localhost:8080/"
        },
        "id": "RbkjcFKGBsgP",
        "outputId": "1cb03e67-f415-42c4-9ed9-f6e4cee5a682"
      },
      "execution_count": 1,
      "outputs": [
        {
          "output_type": "stream",
          "name": "stderr",
          "text": [
            "/usr/local/lib/python3.7/dist-packages/statsmodels/tools/_testing.py:19: FutureWarning: pandas.util.testing is deprecated. Use the functions in the public API at pandas.testing instead.\n",
            "  import pandas.util.testing as tm\n"
          ]
        }
      ]
    },
    {
      "cell_type": "code",
      "source": [
        ""
      ],
      "metadata": {
        "id": "ocA7R-kyBsjf"
      },
      "execution_count": null,
      "outputs": []
    },
    {
      "cell_type": "code",
      "source": [
        "#Criar uma função  para ver as caracteristicas do DAtaframe \n",
        "\n",
        "def resumetable(df):\n",
        "    print(f\"Dataset Shape: {df.shape}\")\n",
        "    summary = pd.DataFrame(df.dtypes,columns=['dtypes'])\n",
        "    summary = summary.reset_index()\n",
        "    summary['Name'] = summary['index']\n",
        "    summary = summary[['Name','dtypes']]\n",
        "    summary['Missing'] = df.isnull().sum().values    \n",
        "    summary['Uniques'] = df.nunique().values\n",
        "    summary['First Value'] = df.loc[0].values\n",
        "    summary['Second Value'] = df.loc[1].values\n",
        "    return summary"
      ],
      "metadata": {
        "id": "0drRLYm4Bsmf"
      },
      "execution_count": 14,
      "outputs": []
    },
    {
      "cell_type": "code",
      "source": [
        "file_loc = \"/content/drive/MyDrive/1-CIENCIA DE DADOS-CURSOS_ESTUDO DE CASO/CATBOOT/bank-full (1).csv\""
      ],
      "metadata": {
        "id": "cpBVizwsBspm"
      },
      "execution_count": 4,
      "outputs": []
    },
    {
      "cell_type": "code",
      "source": [
        "df = pd.read_csv(file_loc, delimiter=';')"
      ],
      "metadata": {
        "id": "O_0rpKbhBssu"
      },
      "execution_count": 7,
      "outputs": []
    },
    {
      "cell_type": "code",
      "source": [
        "df.head()"
      ],
      "metadata": {
        "colab": {
          "base_uri": "https://localhost:8080/",
          "height": 270
        },
        "id": "pc8QHGkcBsvu",
        "outputId": "57cd8870-1a16-4c79-baa8-ee15920a7cac"
      },
      "execution_count": 8,
      "outputs": [
        {
          "output_type": "execute_result",
          "data": {
            "text/html": [
              "\n",
              "  <div id=\"df-2f62fbb9-7d95-433f-b3ee-3f7bac62a3db\">\n",
              "    <div class=\"colab-df-container\">\n",
              "      <div>\n",
              "<style scoped>\n",
              "    .dataframe tbody tr th:only-of-type {\n",
              "        vertical-align: middle;\n",
              "    }\n",
              "\n",
              "    .dataframe tbody tr th {\n",
              "        vertical-align: top;\n",
              "    }\n",
              "\n",
              "    .dataframe thead th {\n",
              "        text-align: right;\n",
              "    }\n",
              "</style>\n",
              "<table border=\"1\" class=\"dataframe\">\n",
              "  <thead>\n",
              "    <tr style=\"text-align: right;\">\n",
              "      <th></th>\n",
              "      <th>age</th>\n",
              "      <th>job</th>\n",
              "      <th>marital</th>\n",
              "      <th>education</th>\n",
              "      <th>default</th>\n",
              "      <th>balance</th>\n",
              "      <th>housing</th>\n",
              "      <th>loan</th>\n",
              "      <th>contact</th>\n",
              "      <th>day</th>\n",
              "      <th>month</th>\n",
              "      <th>duration</th>\n",
              "      <th>campaign</th>\n",
              "      <th>pdays</th>\n",
              "      <th>previous</th>\n",
              "      <th>poutcome</th>\n",
              "      <th>y</th>\n",
              "    </tr>\n",
              "  </thead>\n",
              "  <tbody>\n",
              "    <tr>\n",
              "      <th>0</th>\n",
              "      <td>58</td>\n",
              "      <td>management</td>\n",
              "      <td>married</td>\n",
              "      <td>tertiary</td>\n",
              "      <td>no</td>\n",
              "      <td>2143</td>\n",
              "      <td>yes</td>\n",
              "      <td>no</td>\n",
              "      <td>unknown</td>\n",
              "      <td>5</td>\n",
              "      <td>may</td>\n",
              "      <td>261</td>\n",
              "      <td>1</td>\n",
              "      <td>-1</td>\n",
              "      <td>0</td>\n",
              "      <td>unknown</td>\n",
              "      <td>no</td>\n",
              "    </tr>\n",
              "    <tr>\n",
              "      <th>1</th>\n",
              "      <td>44</td>\n",
              "      <td>technician</td>\n",
              "      <td>single</td>\n",
              "      <td>secondary</td>\n",
              "      <td>no</td>\n",
              "      <td>29</td>\n",
              "      <td>yes</td>\n",
              "      <td>no</td>\n",
              "      <td>unknown</td>\n",
              "      <td>5</td>\n",
              "      <td>may</td>\n",
              "      <td>151</td>\n",
              "      <td>1</td>\n",
              "      <td>-1</td>\n",
              "      <td>0</td>\n",
              "      <td>unknown</td>\n",
              "      <td>no</td>\n",
              "    </tr>\n",
              "    <tr>\n",
              "      <th>2</th>\n",
              "      <td>33</td>\n",
              "      <td>entrepreneur</td>\n",
              "      <td>married</td>\n",
              "      <td>secondary</td>\n",
              "      <td>no</td>\n",
              "      <td>2</td>\n",
              "      <td>yes</td>\n",
              "      <td>yes</td>\n",
              "      <td>unknown</td>\n",
              "      <td>5</td>\n",
              "      <td>may</td>\n",
              "      <td>76</td>\n",
              "      <td>1</td>\n",
              "      <td>-1</td>\n",
              "      <td>0</td>\n",
              "      <td>unknown</td>\n",
              "      <td>no</td>\n",
              "    </tr>\n",
              "    <tr>\n",
              "      <th>3</th>\n",
              "      <td>47</td>\n",
              "      <td>blue-collar</td>\n",
              "      <td>married</td>\n",
              "      <td>unknown</td>\n",
              "      <td>no</td>\n",
              "      <td>1506</td>\n",
              "      <td>yes</td>\n",
              "      <td>no</td>\n",
              "      <td>unknown</td>\n",
              "      <td>5</td>\n",
              "      <td>may</td>\n",
              "      <td>92</td>\n",
              "      <td>1</td>\n",
              "      <td>-1</td>\n",
              "      <td>0</td>\n",
              "      <td>unknown</td>\n",
              "      <td>no</td>\n",
              "    </tr>\n",
              "    <tr>\n",
              "      <th>4</th>\n",
              "      <td>33</td>\n",
              "      <td>unknown</td>\n",
              "      <td>single</td>\n",
              "      <td>unknown</td>\n",
              "      <td>no</td>\n",
              "      <td>1</td>\n",
              "      <td>no</td>\n",
              "      <td>no</td>\n",
              "      <td>unknown</td>\n",
              "      <td>5</td>\n",
              "      <td>may</td>\n",
              "      <td>198</td>\n",
              "      <td>1</td>\n",
              "      <td>-1</td>\n",
              "      <td>0</td>\n",
              "      <td>unknown</td>\n",
              "      <td>no</td>\n",
              "    </tr>\n",
              "  </tbody>\n",
              "</table>\n",
              "</div>\n",
              "      <button class=\"colab-df-convert\" onclick=\"convertToInteractive('df-2f62fbb9-7d95-433f-b3ee-3f7bac62a3db')\"\n",
              "              title=\"Convert this dataframe to an interactive table.\"\n",
              "              style=\"display:none;\">\n",
              "        \n",
              "  <svg xmlns=\"http://www.w3.org/2000/svg\" height=\"24px\"viewBox=\"0 0 24 24\"\n",
              "       width=\"24px\">\n",
              "    <path d=\"M0 0h24v24H0V0z\" fill=\"none\"/>\n",
              "    <path d=\"M18.56 5.44l.94 2.06.94-2.06 2.06-.94-2.06-.94-.94-2.06-.94 2.06-2.06.94zm-11 1L8.5 8.5l.94-2.06 2.06-.94-2.06-.94L8.5 2.5l-.94 2.06-2.06.94zm10 10l.94 2.06.94-2.06 2.06-.94-2.06-.94-.94-2.06-.94 2.06-2.06.94z\"/><path d=\"M17.41 7.96l-1.37-1.37c-.4-.4-.92-.59-1.43-.59-.52 0-1.04.2-1.43.59L10.3 9.45l-7.72 7.72c-.78.78-.78 2.05 0 2.83L4 21.41c.39.39.9.59 1.41.59.51 0 1.02-.2 1.41-.59l7.78-7.78 2.81-2.81c.8-.78.8-2.07 0-2.86zM5.41 20L4 18.59l7.72-7.72 1.47 1.35L5.41 20z\"/>\n",
              "  </svg>\n",
              "      </button>\n",
              "      \n",
              "  <style>\n",
              "    .colab-df-container {\n",
              "      display:flex;\n",
              "      flex-wrap:wrap;\n",
              "      gap: 12px;\n",
              "    }\n",
              "\n",
              "    .colab-df-convert {\n",
              "      background-color: #E8F0FE;\n",
              "      border: none;\n",
              "      border-radius: 50%;\n",
              "      cursor: pointer;\n",
              "      display: none;\n",
              "      fill: #1967D2;\n",
              "      height: 32px;\n",
              "      padding: 0 0 0 0;\n",
              "      width: 32px;\n",
              "    }\n",
              "\n",
              "    .colab-df-convert:hover {\n",
              "      background-color: #E2EBFA;\n",
              "      box-shadow: 0px 1px 2px rgba(60, 64, 67, 0.3), 0px 1px 3px 1px rgba(60, 64, 67, 0.15);\n",
              "      fill: #174EA6;\n",
              "    }\n",
              "\n",
              "    [theme=dark] .colab-df-convert {\n",
              "      background-color: #3B4455;\n",
              "      fill: #D2E3FC;\n",
              "    }\n",
              "\n",
              "    [theme=dark] .colab-df-convert:hover {\n",
              "      background-color: #434B5C;\n",
              "      box-shadow: 0px 1px 3px 1px rgba(0, 0, 0, 0.15);\n",
              "      filter: drop-shadow(0px 1px 2px rgba(0, 0, 0, 0.3));\n",
              "      fill: #FFFFFF;\n",
              "    }\n",
              "  </style>\n",
              "\n",
              "      <script>\n",
              "        const buttonEl =\n",
              "          document.querySelector('#df-2f62fbb9-7d95-433f-b3ee-3f7bac62a3db button.colab-df-convert');\n",
              "        buttonEl.style.display =\n",
              "          google.colab.kernel.accessAllowed ? 'block' : 'none';\n",
              "\n",
              "        async function convertToInteractive(key) {\n",
              "          const element = document.querySelector('#df-2f62fbb9-7d95-433f-b3ee-3f7bac62a3db');\n",
              "          const dataTable =\n",
              "            await google.colab.kernel.invokeFunction('convertToInteractive',\n",
              "                                                     [key], {});\n",
              "          if (!dataTable) return;\n",
              "\n",
              "          const docLinkHtml = 'Like what you see? Visit the ' +\n",
              "            '<a target=\"_blank\" href=https://colab.research.google.com/notebooks/data_table.ipynb>data table notebook</a>'\n",
              "            + ' to learn more about interactive tables.';\n",
              "          element.innerHTML = '';\n",
              "          dataTable['output_type'] = 'display_data';\n",
              "          await google.colab.output.renderOutput(dataTable, element);\n",
              "          const docLink = document.createElement('div');\n",
              "          docLink.innerHTML = docLinkHtml;\n",
              "          element.appendChild(docLink);\n",
              "        }\n",
              "      </script>\n",
              "    </div>\n",
              "  </div>\n",
              "  "
            ],
            "text/plain": [
              "   age           job  marital  education  ... pdays  previous poutcome   y\n",
              "0   58    management  married   tertiary  ...    -1         0  unknown  no\n",
              "1   44    technician   single  secondary  ...    -1         0  unknown  no\n",
              "2   33  entrepreneur  married  secondary  ...    -1         0  unknown  no\n",
              "3   47   blue-collar  married    unknown  ...    -1         0  unknown  no\n",
              "4   33       unknown   single    unknown  ...    -1         0  unknown  no\n",
              "\n",
              "[5 rows x 17 columns]"
            ]
          },
          "metadata": {},
          "execution_count": 8
        }
      ]
    },
    {
      "cell_type": "code",
      "source": [
        ""
      ],
      "metadata": {
        "id": "wryLP2W4BsyO"
      },
      "execution_count": null,
      "outputs": []
    },
    {
      "cell_type": "code",
      "source": [
        "df.dropna()\n",
        "\n",
        "#Limpara valores nulos "
      ],
      "metadata": {
        "colab": {
          "base_uri": "https://localhost:8080/",
          "height": 488
        },
        "id": "t_b2iqiTH8Bz",
        "outputId": "a28d184d-72a5-4e0f-bb5b-0358990b2bdb"
      },
      "execution_count": 9,
      "outputs": [
        {
          "output_type": "execute_result",
          "data": {
            "text/html": [
              "\n",
              "  <div id=\"df-38730088-49f3-44c8-8c24-16c5d8c0ae85\">\n",
              "    <div class=\"colab-df-container\">\n",
              "      <div>\n",
              "<style scoped>\n",
              "    .dataframe tbody tr th:only-of-type {\n",
              "        vertical-align: middle;\n",
              "    }\n",
              "\n",
              "    .dataframe tbody tr th {\n",
              "        vertical-align: top;\n",
              "    }\n",
              "\n",
              "    .dataframe thead th {\n",
              "        text-align: right;\n",
              "    }\n",
              "</style>\n",
              "<table border=\"1\" class=\"dataframe\">\n",
              "  <thead>\n",
              "    <tr style=\"text-align: right;\">\n",
              "      <th></th>\n",
              "      <th>age</th>\n",
              "      <th>job</th>\n",
              "      <th>marital</th>\n",
              "      <th>education</th>\n",
              "      <th>default</th>\n",
              "      <th>balance</th>\n",
              "      <th>housing</th>\n",
              "      <th>loan</th>\n",
              "      <th>contact</th>\n",
              "      <th>day</th>\n",
              "      <th>month</th>\n",
              "      <th>duration</th>\n",
              "      <th>campaign</th>\n",
              "      <th>pdays</th>\n",
              "      <th>previous</th>\n",
              "      <th>poutcome</th>\n",
              "      <th>y</th>\n",
              "    </tr>\n",
              "  </thead>\n",
              "  <tbody>\n",
              "    <tr>\n",
              "      <th>0</th>\n",
              "      <td>58</td>\n",
              "      <td>management</td>\n",
              "      <td>married</td>\n",
              "      <td>tertiary</td>\n",
              "      <td>no</td>\n",
              "      <td>2143</td>\n",
              "      <td>yes</td>\n",
              "      <td>no</td>\n",
              "      <td>unknown</td>\n",
              "      <td>5</td>\n",
              "      <td>may</td>\n",
              "      <td>261</td>\n",
              "      <td>1</td>\n",
              "      <td>-1</td>\n",
              "      <td>0</td>\n",
              "      <td>unknown</td>\n",
              "      <td>no</td>\n",
              "    </tr>\n",
              "    <tr>\n",
              "      <th>1</th>\n",
              "      <td>44</td>\n",
              "      <td>technician</td>\n",
              "      <td>single</td>\n",
              "      <td>secondary</td>\n",
              "      <td>no</td>\n",
              "      <td>29</td>\n",
              "      <td>yes</td>\n",
              "      <td>no</td>\n",
              "      <td>unknown</td>\n",
              "      <td>5</td>\n",
              "      <td>may</td>\n",
              "      <td>151</td>\n",
              "      <td>1</td>\n",
              "      <td>-1</td>\n",
              "      <td>0</td>\n",
              "      <td>unknown</td>\n",
              "      <td>no</td>\n",
              "    </tr>\n",
              "    <tr>\n",
              "      <th>2</th>\n",
              "      <td>33</td>\n",
              "      <td>entrepreneur</td>\n",
              "      <td>married</td>\n",
              "      <td>secondary</td>\n",
              "      <td>no</td>\n",
              "      <td>2</td>\n",
              "      <td>yes</td>\n",
              "      <td>yes</td>\n",
              "      <td>unknown</td>\n",
              "      <td>5</td>\n",
              "      <td>may</td>\n",
              "      <td>76</td>\n",
              "      <td>1</td>\n",
              "      <td>-1</td>\n",
              "      <td>0</td>\n",
              "      <td>unknown</td>\n",
              "      <td>no</td>\n",
              "    </tr>\n",
              "    <tr>\n",
              "      <th>3</th>\n",
              "      <td>47</td>\n",
              "      <td>blue-collar</td>\n",
              "      <td>married</td>\n",
              "      <td>unknown</td>\n",
              "      <td>no</td>\n",
              "      <td>1506</td>\n",
              "      <td>yes</td>\n",
              "      <td>no</td>\n",
              "      <td>unknown</td>\n",
              "      <td>5</td>\n",
              "      <td>may</td>\n",
              "      <td>92</td>\n",
              "      <td>1</td>\n",
              "      <td>-1</td>\n",
              "      <td>0</td>\n",
              "      <td>unknown</td>\n",
              "      <td>no</td>\n",
              "    </tr>\n",
              "    <tr>\n",
              "      <th>4</th>\n",
              "      <td>33</td>\n",
              "      <td>unknown</td>\n",
              "      <td>single</td>\n",
              "      <td>unknown</td>\n",
              "      <td>no</td>\n",
              "      <td>1</td>\n",
              "      <td>no</td>\n",
              "      <td>no</td>\n",
              "      <td>unknown</td>\n",
              "      <td>5</td>\n",
              "      <td>may</td>\n",
              "      <td>198</td>\n",
              "      <td>1</td>\n",
              "      <td>-1</td>\n",
              "      <td>0</td>\n",
              "      <td>unknown</td>\n",
              "      <td>no</td>\n",
              "    </tr>\n",
              "    <tr>\n",
              "      <th>...</th>\n",
              "      <td>...</td>\n",
              "      <td>...</td>\n",
              "      <td>...</td>\n",
              "      <td>...</td>\n",
              "      <td>...</td>\n",
              "      <td>...</td>\n",
              "      <td>...</td>\n",
              "      <td>...</td>\n",
              "      <td>...</td>\n",
              "      <td>...</td>\n",
              "      <td>...</td>\n",
              "      <td>...</td>\n",
              "      <td>...</td>\n",
              "      <td>...</td>\n",
              "      <td>...</td>\n",
              "      <td>...</td>\n",
              "      <td>...</td>\n",
              "    </tr>\n",
              "    <tr>\n",
              "      <th>45206</th>\n",
              "      <td>51</td>\n",
              "      <td>technician</td>\n",
              "      <td>married</td>\n",
              "      <td>tertiary</td>\n",
              "      <td>no</td>\n",
              "      <td>825</td>\n",
              "      <td>no</td>\n",
              "      <td>no</td>\n",
              "      <td>cellular</td>\n",
              "      <td>17</td>\n",
              "      <td>nov</td>\n",
              "      <td>977</td>\n",
              "      <td>3</td>\n",
              "      <td>-1</td>\n",
              "      <td>0</td>\n",
              "      <td>unknown</td>\n",
              "      <td>yes</td>\n",
              "    </tr>\n",
              "    <tr>\n",
              "      <th>45207</th>\n",
              "      <td>71</td>\n",
              "      <td>retired</td>\n",
              "      <td>divorced</td>\n",
              "      <td>primary</td>\n",
              "      <td>no</td>\n",
              "      <td>1729</td>\n",
              "      <td>no</td>\n",
              "      <td>no</td>\n",
              "      <td>cellular</td>\n",
              "      <td>17</td>\n",
              "      <td>nov</td>\n",
              "      <td>456</td>\n",
              "      <td>2</td>\n",
              "      <td>-1</td>\n",
              "      <td>0</td>\n",
              "      <td>unknown</td>\n",
              "      <td>yes</td>\n",
              "    </tr>\n",
              "    <tr>\n",
              "      <th>45208</th>\n",
              "      <td>72</td>\n",
              "      <td>retired</td>\n",
              "      <td>married</td>\n",
              "      <td>secondary</td>\n",
              "      <td>no</td>\n",
              "      <td>5715</td>\n",
              "      <td>no</td>\n",
              "      <td>no</td>\n",
              "      <td>cellular</td>\n",
              "      <td>17</td>\n",
              "      <td>nov</td>\n",
              "      <td>1127</td>\n",
              "      <td>5</td>\n",
              "      <td>184</td>\n",
              "      <td>3</td>\n",
              "      <td>success</td>\n",
              "      <td>yes</td>\n",
              "    </tr>\n",
              "    <tr>\n",
              "      <th>45209</th>\n",
              "      <td>57</td>\n",
              "      <td>blue-collar</td>\n",
              "      <td>married</td>\n",
              "      <td>secondary</td>\n",
              "      <td>no</td>\n",
              "      <td>668</td>\n",
              "      <td>no</td>\n",
              "      <td>no</td>\n",
              "      <td>telephone</td>\n",
              "      <td>17</td>\n",
              "      <td>nov</td>\n",
              "      <td>508</td>\n",
              "      <td>4</td>\n",
              "      <td>-1</td>\n",
              "      <td>0</td>\n",
              "      <td>unknown</td>\n",
              "      <td>no</td>\n",
              "    </tr>\n",
              "    <tr>\n",
              "      <th>45210</th>\n",
              "      <td>37</td>\n",
              "      <td>entrepreneur</td>\n",
              "      <td>married</td>\n",
              "      <td>secondary</td>\n",
              "      <td>no</td>\n",
              "      <td>2971</td>\n",
              "      <td>no</td>\n",
              "      <td>no</td>\n",
              "      <td>cellular</td>\n",
              "      <td>17</td>\n",
              "      <td>nov</td>\n",
              "      <td>361</td>\n",
              "      <td>2</td>\n",
              "      <td>188</td>\n",
              "      <td>11</td>\n",
              "      <td>other</td>\n",
              "      <td>no</td>\n",
              "    </tr>\n",
              "  </tbody>\n",
              "</table>\n",
              "<p>45211 rows × 17 columns</p>\n",
              "</div>\n",
              "      <button class=\"colab-df-convert\" onclick=\"convertToInteractive('df-38730088-49f3-44c8-8c24-16c5d8c0ae85')\"\n",
              "              title=\"Convert this dataframe to an interactive table.\"\n",
              "              style=\"display:none;\">\n",
              "        \n",
              "  <svg xmlns=\"http://www.w3.org/2000/svg\" height=\"24px\"viewBox=\"0 0 24 24\"\n",
              "       width=\"24px\">\n",
              "    <path d=\"M0 0h24v24H0V0z\" fill=\"none\"/>\n",
              "    <path d=\"M18.56 5.44l.94 2.06.94-2.06 2.06-.94-2.06-.94-.94-2.06-.94 2.06-2.06.94zm-11 1L8.5 8.5l.94-2.06 2.06-.94-2.06-.94L8.5 2.5l-.94 2.06-2.06.94zm10 10l.94 2.06.94-2.06 2.06-.94-2.06-.94-.94-2.06-.94 2.06-2.06.94z\"/><path d=\"M17.41 7.96l-1.37-1.37c-.4-.4-.92-.59-1.43-.59-.52 0-1.04.2-1.43.59L10.3 9.45l-7.72 7.72c-.78.78-.78 2.05 0 2.83L4 21.41c.39.39.9.59 1.41.59.51 0 1.02-.2 1.41-.59l7.78-7.78 2.81-2.81c.8-.78.8-2.07 0-2.86zM5.41 20L4 18.59l7.72-7.72 1.47 1.35L5.41 20z\"/>\n",
              "  </svg>\n",
              "      </button>\n",
              "      \n",
              "  <style>\n",
              "    .colab-df-container {\n",
              "      display:flex;\n",
              "      flex-wrap:wrap;\n",
              "      gap: 12px;\n",
              "    }\n",
              "\n",
              "    .colab-df-convert {\n",
              "      background-color: #E8F0FE;\n",
              "      border: none;\n",
              "      border-radius: 50%;\n",
              "      cursor: pointer;\n",
              "      display: none;\n",
              "      fill: #1967D2;\n",
              "      height: 32px;\n",
              "      padding: 0 0 0 0;\n",
              "      width: 32px;\n",
              "    }\n",
              "\n",
              "    .colab-df-convert:hover {\n",
              "      background-color: #E2EBFA;\n",
              "      box-shadow: 0px 1px 2px rgba(60, 64, 67, 0.3), 0px 1px 3px 1px rgba(60, 64, 67, 0.15);\n",
              "      fill: #174EA6;\n",
              "    }\n",
              "\n",
              "    [theme=dark] .colab-df-convert {\n",
              "      background-color: #3B4455;\n",
              "      fill: #D2E3FC;\n",
              "    }\n",
              "\n",
              "    [theme=dark] .colab-df-convert:hover {\n",
              "      background-color: #434B5C;\n",
              "      box-shadow: 0px 1px 3px 1px rgba(0, 0, 0, 0.15);\n",
              "      filter: drop-shadow(0px 1px 2px rgba(0, 0, 0, 0.3));\n",
              "      fill: #FFFFFF;\n",
              "    }\n",
              "  </style>\n",
              "\n",
              "      <script>\n",
              "        const buttonEl =\n",
              "          document.querySelector('#df-38730088-49f3-44c8-8c24-16c5d8c0ae85 button.colab-df-convert');\n",
              "        buttonEl.style.display =\n",
              "          google.colab.kernel.accessAllowed ? 'block' : 'none';\n",
              "\n",
              "        async function convertToInteractive(key) {\n",
              "          const element = document.querySelector('#df-38730088-49f3-44c8-8c24-16c5d8c0ae85');\n",
              "          const dataTable =\n",
              "            await google.colab.kernel.invokeFunction('convertToInteractive',\n",
              "                                                     [key], {});\n",
              "          if (!dataTable) return;\n",
              "\n",
              "          const docLinkHtml = 'Like what you see? Visit the ' +\n",
              "            '<a target=\"_blank\" href=https://colab.research.google.com/notebooks/data_table.ipynb>data table notebook</a>'\n",
              "            + ' to learn more about interactive tables.';\n",
              "          element.innerHTML = '';\n",
              "          dataTable['output_type'] = 'display_data';\n",
              "          await google.colab.output.renderOutput(dataTable, element);\n",
              "          const docLink = document.createElement('div');\n",
              "          docLink.innerHTML = docLinkHtml;\n",
              "          element.appendChild(docLink);\n",
              "        }\n",
              "      </script>\n",
              "    </div>\n",
              "  </div>\n",
              "  "
            ],
            "text/plain": [
              "       age           job   marital  education  ... pdays  previous poutcome    y\n",
              "0       58    management   married   tertiary  ...    -1         0  unknown   no\n",
              "1       44    technician    single  secondary  ...    -1         0  unknown   no\n",
              "2       33  entrepreneur   married  secondary  ...    -1         0  unknown   no\n",
              "3       47   blue-collar   married    unknown  ...    -1         0  unknown   no\n",
              "4       33       unknown    single    unknown  ...    -1         0  unknown   no\n",
              "...    ...           ...       ...        ...  ...   ...       ...      ...  ...\n",
              "45206   51    technician   married   tertiary  ...    -1         0  unknown  yes\n",
              "45207   71       retired  divorced    primary  ...    -1         0  unknown  yes\n",
              "45208   72       retired   married  secondary  ...   184         3  success  yes\n",
              "45209   57   blue-collar   married  secondary  ...    -1         0  unknown   no\n",
              "45210   37  entrepreneur   married  secondary  ...   188        11    other   no\n",
              "\n",
              "[45211 rows x 17 columns]"
            ]
          },
          "metadata": {},
          "execution_count": 9
        }
      ]
    },
    {
      "cell_type": "code",
      "source": [
        "df.isnull().sum()"
      ],
      "metadata": {
        "colab": {
          "base_uri": "https://localhost:8080/"
        },
        "id": "r9TgWDXqH8Gb",
        "outputId": "41c5a3eb-b3a1-4c1c-e5c1-1f6d06f6d694"
      },
      "execution_count": 10,
      "outputs": [
        {
          "output_type": "execute_result",
          "data": {
            "text/plain": [
              "age          0\n",
              "job          0\n",
              "marital      0\n",
              "education    0\n",
              "default      0\n",
              "balance      0\n",
              "housing      0\n",
              "loan         0\n",
              "contact      0\n",
              "day          0\n",
              "month        0\n",
              "duration     0\n",
              "campaign     0\n",
              "pdays        0\n",
              "previous     0\n",
              "poutcome     0\n",
              "y            0\n",
              "dtype: int64"
            ]
          },
          "metadata": {},
          "execution_count": 10
        }
      ]
    },
    {
      "cell_type": "code",
      "source": [
        ""
      ],
      "metadata": {
        "id": "80efJGOrH8Kt"
      },
      "execution_count": null,
      "outputs": []
    },
    {
      "cell_type": "code",
      "source": [
        "#Vou chamar a função que foi criada \n",
        "\n",
        "result = resumetable(df)\n",
        "result  \n",
        "\n"
      ],
      "metadata": {
        "colab": {
          "base_uri": "https://localhost:8080/",
          "height": 600
        },
        "id": "DytavJq0H8Ol",
        "outputId": "e8c61ea2-14f1-4a4c-ff15-0d1004cd1591"
      },
      "execution_count": 15,
      "outputs": [
        {
          "output_type": "stream",
          "name": "stdout",
          "text": [
            "Dataset Shape: (45211, 17)\n"
          ]
        },
        {
          "output_type": "execute_result",
          "data": {
            "text/html": [
              "\n",
              "  <div id=\"df-0eeb06da-ecc9-4532-a269-263be4031d25\">\n",
              "    <div class=\"colab-df-container\">\n",
              "      <div>\n",
              "<style scoped>\n",
              "    .dataframe tbody tr th:only-of-type {\n",
              "        vertical-align: middle;\n",
              "    }\n",
              "\n",
              "    .dataframe tbody tr th {\n",
              "        vertical-align: top;\n",
              "    }\n",
              "\n",
              "    .dataframe thead th {\n",
              "        text-align: right;\n",
              "    }\n",
              "</style>\n",
              "<table border=\"1\" class=\"dataframe\">\n",
              "  <thead>\n",
              "    <tr style=\"text-align: right;\">\n",
              "      <th></th>\n",
              "      <th>Name</th>\n",
              "      <th>dtypes</th>\n",
              "      <th>Missing</th>\n",
              "      <th>Uniques</th>\n",
              "      <th>First Value</th>\n",
              "      <th>Second Value</th>\n",
              "    </tr>\n",
              "  </thead>\n",
              "  <tbody>\n",
              "    <tr>\n",
              "      <th>0</th>\n",
              "      <td>age</td>\n",
              "      <td>int64</td>\n",
              "      <td>0</td>\n",
              "      <td>77</td>\n",
              "      <td>58</td>\n",
              "      <td>44</td>\n",
              "    </tr>\n",
              "    <tr>\n",
              "      <th>1</th>\n",
              "      <td>job</td>\n",
              "      <td>object</td>\n",
              "      <td>0</td>\n",
              "      <td>12</td>\n",
              "      <td>management</td>\n",
              "      <td>technician</td>\n",
              "    </tr>\n",
              "    <tr>\n",
              "      <th>2</th>\n",
              "      <td>marital</td>\n",
              "      <td>object</td>\n",
              "      <td>0</td>\n",
              "      <td>3</td>\n",
              "      <td>married</td>\n",
              "      <td>single</td>\n",
              "    </tr>\n",
              "    <tr>\n",
              "      <th>3</th>\n",
              "      <td>education</td>\n",
              "      <td>object</td>\n",
              "      <td>0</td>\n",
              "      <td>4</td>\n",
              "      <td>tertiary</td>\n",
              "      <td>secondary</td>\n",
              "    </tr>\n",
              "    <tr>\n",
              "      <th>4</th>\n",
              "      <td>default</td>\n",
              "      <td>object</td>\n",
              "      <td>0</td>\n",
              "      <td>2</td>\n",
              "      <td>no</td>\n",
              "      <td>no</td>\n",
              "    </tr>\n",
              "    <tr>\n",
              "      <th>5</th>\n",
              "      <td>balance</td>\n",
              "      <td>int64</td>\n",
              "      <td>0</td>\n",
              "      <td>7168</td>\n",
              "      <td>2143</td>\n",
              "      <td>29</td>\n",
              "    </tr>\n",
              "    <tr>\n",
              "      <th>6</th>\n",
              "      <td>housing</td>\n",
              "      <td>object</td>\n",
              "      <td>0</td>\n",
              "      <td>2</td>\n",
              "      <td>yes</td>\n",
              "      <td>yes</td>\n",
              "    </tr>\n",
              "    <tr>\n",
              "      <th>7</th>\n",
              "      <td>loan</td>\n",
              "      <td>object</td>\n",
              "      <td>0</td>\n",
              "      <td>2</td>\n",
              "      <td>no</td>\n",
              "      <td>no</td>\n",
              "    </tr>\n",
              "    <tr>\n",
              "      <th>8</th>\n",
              "      <td>contact</td>\n",
              "      <td>object</td>\n",
              "      <td>0</td>\n",
              "      <td>3</td>\n",
              "      <td>unknown</td>\n",
              "      <td>unknown</td>\n",
              "    </tr>\n",
              "    <tr>\n",
              "      <th>9</th>\n",
              "      <td>day</td>\n",
              "      <td>int64</td>\n",
              "      <td>0</td>\n",
              "      <td>31</td>\n",
              "      <td>5</td>\n",
              "      <td>5</td>\n",
              "    </tr>\n",
              "    <tr>\n",
              "      <th>10</th>\n",
              "      <td>month</td>\n",
              "      <td>object</td>\n",
              "      <td>0</td>\n",
              "      <td>12</td>\n",
              "      <td>may</td>\n",
              "      <td>may</td>\n",
              "    </tr>\n",
              "    <tr>\n",
              "      <th>11</th>\n",
              "      <td>duration</td>\n",
              "      <td>int64</td>\n",
              "      <td>0</td>\n",
              "      <td>1573</td>\n",
              "      <td>261</td>\n",
              "      <td>151</td>\n",
              "    </tr>\n",
              "    <tr>\n",
              "      <th>12</th>\n",
              "      <td>campaign</td>\n",
              "      <td>int64</td>\n",
              "      <td>0</td>\n",
              "      <td>48</td>\n",
              "      <td>1</td>\n",
              "      <td>1</td>\n",
              "    </tr>\n",
              "    <tr>\n",
              "      <th>13</th>\n",
              "      <td>pdays</td>\n",
              "      <td>int64</td>\n",
              "      <td>0</td>\n",
              "      <td>559</td>\n",
              "      <td>-1</td>\n",
              "      <td>-1</td>\n",
              "    </tr>\n",
              "    <tr>\n",
              "      <th>14</th>\n",
              "      <td>previous</td>\n",
              "      <td>int64</td>\n",
              "      <td>0</td>\n",
              "      <td>41</td>\n",
              "      <td>0</td>\n",
              "      <td>0</td>\n",
              "    </tr>\n",
              "    <tr>\n",
              "      <th>15</th>\n",
              "      <td>poutcome</td>\n",
              "      <td>object</td>\n",
              "      <td>0</td>\n",
              "      <td>4</td>\n",
              "      <td>unknown</td>\n",
              "      <td>unknown</td>\n",
              "    </tr>\n",
              "    <tr>\n",
              "      <th>16</th>\n",
              "      <td>y</td>\n",
              "      <td>object</td>\n",
              "      <td>0</td>\n",
              "      <td>2</td>\n",
              "      <td>no</td>\n",
              "      <td>no</td>\n",
              "    </tr>\n",
              "  </tbody>\n",
              "</table>\n",
              "</div>\n",
              "      <button class=\"colab-df-convert\" onclick=\"convertToInteractive('df-0eeb06da-ecc9-4532-a269-263be4031d25')\"\n",
              "              title=\"Convert this dataframe to an interactive table.\"\n",
              "              style=\"display:none;\">\n",
              "        \n",
              "  <svg xmlns=\"http://www.w3.org/2000/svg\" height=\"24px\"viewBox=\"0 0 24 24\"\n",
              "       width=\"24px\">\n",
              "    <path d=\"M0 0h24v24H0V0z\" fill=\"none\"/>\n",
              "    <path d=\"M18.56 5.44l.94 2.06.94-2.06 2.06-.94-2.06-.94-.94-2.06-.94 2.06-2.06.94zm-11 1L8.5 8.5l.94-2.06 2.06-.94-2.06-.94L8.5 2.5l-.94 2.06-2.06.94zm10 10l.94 2.06.94-2.06 2.06-.94-2.06-.94-.94-2.06-.94 2.06-2.06.94z\"/><path d=\"M17.41 7.96l-1.37-1.37c-.4-.4-.92-.59-1.43-.59-.52 0-1.04.2-1.43.59L10.3 9.45l-7.72 7.72c-.78.78-.78 2.05 0 2.83L4 21.41c.39.39.9.59 1.41.59.51 0 1.02-.2 1.41-.59l7.78-7.78 2.81-2.81c.8-.78.8-2.07 0-2.86zM5.41 20L4 18.59l7.72-7.72 1.47 1.35L5.41 20z\"/>\n",
              "  </svg>\n",
              "      </button>\n",
              "      \n",
              "  <style>\n",
              "    .colab-df-container {\n",
              "      display:flex;\n",
              "      flex-wrap:wrap;\n",
              "      gap: 12px;\n",
              "    }\n",
              "\n",
              "    .colab-df-convert {\n",
              "      background-color: #E8F0FE;\n",
              "      border: none;\n",
              "      border-radius: 50%;\n",
              "      cursor: pointer;\n",
              "      display: none;\n",
              "      fill: #1967D2;\n",
              "      height: 32px;\n",
              "      padding: 0 0 0 0;\n",
              "      width: 32px;\n",
              "    }\n",
              "\n",
              "    .colab-df-convert:hover {\n",
              "      background-color: #E2EBFA;\n",
              "      box-shadow: 0px 1px 2px rgba(60, 64, 67, 0.3), 0px 1px 3px 1px rgba(60, 64, 67, 0.15);\n",
              "      fill: #174EA6;\n",
              "    }\n",
              "\n",
              "    [theme=dark] .colab-df-convert {\n",
              "      background-color: #3B4455;\n",
              "      fill: #D2E3FC;\n",
              "    }\n",
              "\n",
              "    [theme=dark] .colab-df-convert:hover {\n",
              "      background-color: #434B5C;\n",
              "      box-shadow: 0px 1px 3px 1px rgba(0, 0, 0, 0.15);\n",
              "      filter: drop-shadow(0px 1px 2px rgba(0, 0, 0, 0.3));\n",
              "      fill: #FFFFFF;\n",
              "    }\n",
              "  </style>\n",
              "\n",
              "      <script>\n",
              "        const buttonEl =\n",
              "          document.querySelector('#df-0eeb06da-ecc9-4532-a269-263be4031d25 button.colab-df-convert');\n",
              "        buttonEl.style.display =\n",
              "          google.colab.kernel.accessAllowed ? 'block' : 'none';\n",
              "\n",
              "        async function convertToInteractive(key) {\n",
              "          const element = document.querySelector('#df-0eeb06da-ecc9-4532-a269-263be4031d25');\n",
              "          const dataTable =\n",
              "            await google.colab.kernel.invokeFunction('convertToInteractive',\n",
              "                                                     [key], {});\n",
              "          if (!dataTable) return;\n",
              "\n",
              "          const docLinkHtml = 'Like what you see? Visit the ' +\n",
              "            '<a target=\"_blank\" href=https://colab.research.google.com/notebooks/data_table.ipynb>data table notebook</a>'\n",
              "            + ' to learn more about interactive tables.';\n",
              "          element.innerHTML = '';\n",
              "          dataTable['output_type'] = 'display_data';\n",
              "          await google.colab.output.renderOutput(dataTable, element);\n",
              "          const docLink = document.createElement('div');\n",
              "          docLink.innerHTML = docLinkHtml;\n",
              "          element.appendChild(docLink);\n",
              "        }\n",
              "      </script>\n",
              "    </div>\n",
              "  </div>\n",
              "  "
            ],
            "text/plain": [
              "         Name  dtypes  Missing  Uniques First Value Second Value\n",
              "0         age   int64        0       77          58           44\n",
              "1         job  object        0       12  management   technician\n",
              "2     marital  object        0        3     married       single\n",
              "3   education  object        0        4    tertiary    secondary\n",
              "4     default  object        0        2          no           no\n",
              "5     balance   int64        0     7168        2143           29\n",
              "6     housing  object        0        2         yes          yes\n",
              "7        loan  object        0        2          no           no\n",
              "8     contact  object        0        3     unknown      unknown\n",
              "9         day   int64        0       31           5            5\n",
              "10      month  object        0       12         may          may\n",
              "11   duration   int64        0     1573         261          151\n",
              "12   campaign   int64        0       48           1            1\n",
              "13      pdays   int64        0      559          -1           -1\n",
              "14   previous   int64        0       41           0            0\n",
              "15   poutcome  object        0        4     unknown      unknown\n",
              "16          y  object        0        2          no           no"
            ]
          },
          "metadata": {},
          "execution_count": 15
        }
      ]
    },
    {
      "cell_type": "code",
      "source": [
        ""
      ],
      "metadata": {
        "id": "EgkCoa4wH8SF"
      },
      "execution_count": null,
      "outputs": []
    },
    {
      "cell_type": "code",
      "source": [
        "#Separa os dados preditores. \n",
        "\n",
        "\n",
        "target_col = 'y' #y vai ser o dado preditor\n",
        "\n",
        "X = df.loc[:, df.columns != target_col]\n",
        "y = df.loc[:, target_col]"
      ],
      "metadata": {
        "id": "9oUynAZMH8Vh"
      },
      "execution_count": 17,
      "outputs": []
    },
    {
      "cell_type": "code",
      "source": [
        ""
      ],
      "metadata": {
        "id": "MTVAWrLwH8Y-"
      },
      "execution_count": null,
      "outputs": []
    },
    {
      "cell_type": "code",
      "source": [
        "#Treinar\n",
        "\n",
        "X_train, X_test, y_train, y_test = train_test_split(X, y, \n",
        "                                                    test_size=0.33,\n",
        "                                                    random_state= 42)\n",
        "\n"
      ],
      "metadata": {
        "id": "UTXcNn1VH8cK"
      },
      "execution_count": 19,
      "outputs": []
    },
    {
      "cell_type": "code",
      "source": [
        "#Criar uma lista de features \n",
        "\n",
        "\n",
        "cat_features = [\"job\", \"marital\", \"education\", \"default\", \"housing\", \"loan\", \"contact\",\"month\", \"poutcome\"]"
      ],
      "metadata": {
        "id": "-WOHRQkwH8fQ"
      },
      "execution_count": 20,
      "outputs": []
    },
    {
      "cell_type": "code",
      "source": [
        ""
      ],
      "metadata": {
        "id": "b13rlsivH8iO"
      },
      "execution_count": null,
      "outputs": []
    },
    {
      "cell_type": "markdown",
      "source": [
        "\n",
        "Criar Maquina Preditiva"
      ],
      "metadata": {
        "id": "WjkMUHstR5FK"
      }
    },
    {
      "cell_type": "code",
      "source": [
        "#Criar a maquina preditiva \n",
        "\n",
        "model_cb = CatBoostClassifier(task_type='CPU', #utilizar o CPU os dados são pequenos, mas podemos utilizar a GPU\n",
        "                              iterations=100, #100 interações\n",
        "                              random_state = 2022, #criar uma aleatoriedade no processo \n",
        "                              eval_metric=\"Accuracy\",# metrica que a maqui preditiva considere o parendizado \n",
        "                              verbose=5)#printar de 5 em  5 "
      ],
      "metadata": {
        "id": "ERRAWu80H8lW"
      },
      "execution_count": 23,
      "outputs": []
    },
    {
      "cell_type": "code",
      "source": [
        ""
      ],
      "metadata": {
        "id": "b9bWIiPMH8oy"
      },
      "execution_count": null,
      "outputs": []
    },
    {
      "cell_type": "markdown",
      "source": [
        "Treinamento "
      ],
      "metadata": {
        "id": "pXgtIZg-H8rW"
      }
    },
    {
      "cell_type": "code",
      "source": [
        "model_cb.fit(X_train, y_train, cat_features= cat_features, plot=True, eval_set=(X_test, y_test))\n",
        "\n",
        "#é no treinamneot que que utilizamos o CatBoot"
      ],
      "metadata": {
        "colab": {
          "base_uri": "https://localhost:8080/",
          "height": 502,
          "referenced_widgets": [
            "2204b596728148e78031f92142859cf5"
          ]
        },
        "id": "3LCl2gFMH8uF",
        "outputId": "afb6242c-3a77-4857-b669-79b6b6b8a2c3"
      },
      "execution_count": 24,
      "outputs": [
        {
          "output_type": "display_data",
          "data": {
            "application/vnd.jupyter.widget-view+json": {
              "model_id": "2204b596728148e78031f92142859cf5",
              "version_minor": 0,
              "version_major": 2
            },
            "text/plain": [
              "MetricVisualizer(layout=Layout(align_self='stretch', height='500px'))"
            ]
          },
          "metadata": {}
        },
        {
          "output_type": "stream",
          "name": "stdout",
          "text": [
            "Learning rate set to 0.200352\n",
            "0:\tlearn: 0.8866660\ttest: 0.8857909\tbest: 0.8857909 (0)\ttotal: 72.4ms\tremaining: 7.17s\n",
            "5:\tlearn: 0.8921792\ttest: 0.8896113\tbest: 0.8896113 (5)\ttotal: 170ms\tremaining: 2.66s\n",
            "10:\tlearn: 0.9003004\ttest: 0.8981233\tbest: 0.8981233 (10)\ttotal: 265ms\tremaining: 2.14s\n",
            "15:\tlearn: 0.9040969\ttest: 0.9010054\tbest: 0.9022118 (14)\ttotal: 362ms\tremaining: 1.9s\n",
            "20:\tlearn: 0.9069361\ttest: 0.9024129\tbest: 0.9024129 (20)\ttotal: 444ms\tremaining: 1.67s\n",
            "25:\tlearn: 0.9085537\ttest: 0.9030831\tbest: 0.9030831 (25)\ttotal: 538ms\tremaining: 1.53s\n",
            "30:\tlearn: 0.9097422\ttest: 0.9045576\tbest: 0.9045576 (29)\ttotal: 627ms\tremaining: 1.39s\n",
            "35:\tlearn: 0.9111617\ttest: 0.9053619\tbest: 0.9053619 (35)\ttotal: 715ms\tremaining: 1.27s\n",
            "40:\tlearn: 0.9116899\ttest: 0.9058981\tbest: 0.9058981 (40)\ttotal: 805ms\tremaining: 1.16s\n",
            "45:\tlearn: 0.9126803\ttest: 0.9067024\tbest: 0.9069035 (44)\ttotal: 883ms\tremaining: 1.04s\n",
            "50:\tlearn: 0.9133406\ttest: 0.9068365\tbest: 0.9069035 (44)\ttotal: 986ms\tremaining: 947ms\n",
            "55:\tlearn: 0.9140009\ttest: 0.9077078\tbest: 0.9079759 (54)\ttotal: 1.07s\tremaining: 842ms\n",
            "60:\tlearn: 0.9145621\ttest: 0.9081099\tbest: 0.9081099 (60)\ttotal: 1.16s\tremaining: 742ms\n",
            "65:\tlearn: 0.9149913\ttest: 0.9087802\tbest: 0.9087802 (64)\ttotal: 1.24s\tremaining: 641ms\n",
            "70:\tlearn: 0.9149252\ttest: 0.9084450\tbest: 0.9089812 (66)\ttotal: 1.35s\tremaining: 550ms\n",
            "75:\tlearn: 0.9151563\ttest: 0.9084450\tbest: 0.9089812 (66)\ttotal: 1.44s\tremaining: 454ms\n",
            "80:\tlearn: 0.9153214\ttest: 0.9087131\tbest: 0.9089812 (66)\ttotal: 1.53s\tremaining: 359ms\n",
            "85:\tlearn: 0.9153874\ttest: 0.9083110\tbest: 0.9089812 (66)\ttotal: 1.62s\tremaining: 264ms\n",
            "90:\tlearn: 0.9160807\ttest: 0.9087802\tbest: 0.9089812 (66)\ttotal: 1.7s\tremaining: 169ms\n",
            "95:\tlearn: 0.9160807\ttest: 0.9087802\tbest: 0.9089812 (66)\ttotal: 1.79s\tremaining: 74.4ms\n",
            "99:\tlearn: 0.9166419\ttest: 0.9091823\tbest: 0.9091823 (97)\ttotal: 1.86s\tremaining: 0us\n",
            "\n",
            "bestTest = 0.9091823056\n",
            "bestIteration = 97\n",
            "\n",
            "Shrink model to first 98 iterations.\n"
          ]
        },
        {
          "output_type": "execute_result",
          "data": {
            "text/plain": [
              "<catboost.core.CatBoostClassifier at 0x7f0426b8df50>"
            ]
          },
          "metadata": {},
          "execution_count": 24
        }
      ]
    },
    {
      "cell_type": "code",
      "source": [
        ""
      ],
      "metadata": {
        "id": "4Jbhs78ZH8xG"
      },
      "execution_count": null,
      "outputs": []
    },
    {
      "cell_type": "code",
      "source": [
        "y_pred  = model_cb.predict(X_test)"
      ],
      "metadata": {
        "id": "BdBs2kn0J2Cs"
      },
      "execution_count": 25,
      "outputs": []
    },
    {
      "cell_type": "code",
      "source": [
        "accuracy_score(y_test, y_pred)"
      ],
      "metadata": {
        "colab": {
          "base_uri": "https://localhost:8080/"
        },
        "id": "p1qCy35TJ2Il",
        "outputId": "4a05a3e8-d2f0-44b5-c0e8-aeacf3f06b3c"
      },
      "execution_count": 26,
      "outputs": [
        {
          "output_type": "execute_result",
          "data": {
            "text/plain": [
              "0.9091823056300268"
            ]
          },
          "metadata": {},
          "execution_count": 26
        }
      ]
    },
    {
      "cell_type": "code",
      "source": [
        ""
      ],
      "metadata": {
        "id": "ZT_n7_xXJ2NO"
      },
      "execution_count": null,
      "outputs": []
    },
    {
      "cell_type": "code",
      "source": [
        ""
      ],
      "metadata": {
        "id": "MKYHvbhwJ2SD"
      },
      "execution_count": null,
      "outputs": []
    },
    {
      "cell_type": "code",
      "source": [
        ""
      ],
      "metadata": {
        "id": "rcEN5_x2J2WK"
      },
      "execution_count": null,
      "outputs": []
    },
    {
      "cell_type": "code",
      "source": [
        ""
      ],
      "metadata": {
        "id": "cTU-B2TYJ2aG"
      },
      "execution_count": null,
      "outputs": []
    },
    {
      "cell_type": "code",
      "source": [
        ""
      ],
      "metadata": {
        "id": "pwvW1BNrJ2da"
      },
      "execution_count": null,
      "outputs": []
    },
    {
      "cell_type": "code",
      "source": [
        ""
      ],
      "metadata": {
        "id": "ILdwlkK9J2gr"
      },
      "execution_count": null,
      "outputs": []
    },
    {
      "cell_type": "code",
      "source": [
        ""
      ],
      "metadata": {
        "id": "JRYhwxGsJ2kK"
      },
      "execution_count": null,
      "outputs": []
    },
    {
      "cell_type": "code",
      "source": [
        ""
      ],
      "metadata": {
        "id": "Td2HwH3qJ2nT"
      },
      "execution_count": null,
      "outputs": []
    },
    {
      "cell_type": "code",
      "source": [
        ""
      ],
      "metadata": {
        "id": "0HH49RgMH8zA"
      },
      "execution_count": null,
      "outputs": []
    }
  ]
}